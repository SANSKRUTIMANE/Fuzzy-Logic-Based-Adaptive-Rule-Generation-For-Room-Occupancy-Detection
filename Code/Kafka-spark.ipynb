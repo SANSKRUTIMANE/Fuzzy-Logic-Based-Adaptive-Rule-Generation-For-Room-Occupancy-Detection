{
 "cells": [
  {
   "cell_type": "code",
   "execution_count": 2,
   "id": "ca5ff98e-4db0-48a4-9c1c-576de03edd25",
   "metadata": {},
   "outputs": [
    {
     "name": "stdout",
     "output_type": "stream",
     "text": [
      "Defaulting to user installation because normal site-packages is not writeable\n",
      "Requirement already satisfied: pyspark in /home/iotworkstation/.local/lib/python3.10/site-packages (3.3.2)\n",
      "Requirement already satisfied: py4j==0.10.9.5 in /home/iotworkstation/.local/lib/python3.10/site-packages (from pyspark) (0.10.9.5)\n"
     ]
    }
   ],
   "source": [
    "!pip install pyspark"
   ]
  },
  {
   "cell_type": "code",
   "execution_count": 3,
   "id": "cb9ceb18-22b7-4697-94f1-1741143416b4",
   "metadata": {},
   "outputs": [
    {
     "name": "stdout",
     "output_type": "stream",
     "text": [
      "Defaulting to user installation because normal site-packages is not writeable\n",
      "Requirement already satisfied: pyspark[streaming] in /home/iotworkstation/.local/lib/python3.10/site-packages (3.3.2)\n",
      "\u001b[33mWARNING: pyspark 3.3.2 does not provide the extra 'streaming'\u001b[0m\u001b[33m\n",
      "\u001b[0mRequirement already satisfied: py4j==0.10.9.5 in /home/iotworkstation/.local/lib/python3.10/site-packages (from pyspark[streaming]) (0.10.9.5)\n",
      "Defaulting to user installation because normal site-packages is not writeable\n",
      "Requirement already satisfied: pykafka in /home/iotworkstation/.local/lib/python3.10/site-packages (2.8.0)\n",
      "Requirement already satisfied: kazoo==2.5.0 in /home/iotworkstation/.local/lib/python3.10/site-packages (from pykafka) (2.5.0)\n",
      "Requirement already satisfied: six>=1.5 in /usr/lib/python3/dist-packages (from pykafka) (1.16.0)\n",
      "Requirement already satisfied: tabulate in /home/iotworkstation/.local/lib/python3.10/site-packages (from pykafka) (0.9.0)\n"
     ]
    }
   ],
   "source": [
    "!pip install pyspark[streaming]\n",
    "!pip install pykafka  "
   ]
  },
  {
   "cell_type": "code",
   "execution_count": 4,
   "id": "22daeed0-01df-4ff0-bc48-319448c5dc33",
   "metadata": {},
   "outputs": [
    {
     "name": "stdout",
     "output_type": "stream",
     "text": [
      "Defaulting to user installation because normal site-packages is not writeable\n",
      "Requirement already satisfied: confluent-kafka in /home/iotworkstation/.local/lib/python3.10/site-packages (2.2.0)\n"
     ]
    }
   ],
   "source": [
    "!pip install confluent-kafka\n"
   ]
  },
  {
   "cell_type": "code",
   "execution_count": 5,
   "id": "c65d6cdb-5fcf-4ccb-9d19-5d7e8231151c",
   "metadata": {},
   "outputs": [
    {
     "name": "stdout",
     "output_type": "stream",
     "text": [
      "Defaulting to user installation because normal site-packages is not writeable\n",
      "Collecting pyspark==3.3.2\n",
      "  Using cached pyspark-3.3.2-py2.py3-none-any.whl\n",
      "Collecting py4j==0.10.9.5 (from pyspark==3.3.2)\n",
      "  Using cached py4j-0.10.9.5-py2.py3-none-any.whl (199 kB)\n",
      "Installing collected packages: py4j, pyspark\n",
      "  Attempting uninstall: py4j\n",
      "    Found existing installation: py4j 0.10.9.5\n",
      "    Uninstalling py4j-0.10.9.5:\n",
      "      Successfully uninstalled py4j-0.10.9.5\n",
      "  Attempting uninstall: pyspark\n",
      "    Found existing installation: pyspark 3.3.2\n",
      "    Uninstalling pyspark-3.3.2:\n",
      "      Successfully uninstalled pyspark-3.3.2\n",
      "Successfully installed py4j-0.10.9.5 pyspark-3.3.2\n"
     ]
    }
   ],
   "source": [
    "!pip install --force-reinstall pyspark==3.3.2"
   ]
  },
  {
   "cell_type": "code",
   "execution_count": 6,
   "id": "9e0a4177-6904-429d-a897-fadf87d0be6f",
   "metadata": {},
   "outputs": [],
   "source": [
    "# import os\n",
    "# os.environ['PYSPARK_SUBMIT_ARGS'] = '--packages org.apache.spark:spark-streaming-kafka-0-10_2.12:3.3.2 pyspark-shell'"
   ]
  },
  {
   "cell_type": "code",
   "execution_count": 7,
   "id": "9a46c487-ee97-41e5-bb59-4bbb7c49d224",
   "metadata": {},
   "outputs": [],
   "source": [
    "from pyspark import SparkContext\n",
    "#    Spark Streaming\n",
    "from pyspark.streaming import StreamingContext\n",
    "# #    Kafka\n",
    "# from pyspark.streaming.kafka import KafkaUtils\n",
    "#    json parsing\n",
    "import json\n"
   ]
  },
  {
   "cell_type": "code",
   "execution_count": 22,
   "id": "a4688d43-2faa-4d2f-bc16-451e8cb1da09",
   "metadata": {},
   "outputs": [],
   "source": [
    "import json\n",
    "import pandas as pd\n",
    "import pymongo\n",
    "from confluent_kafka import Producer, Consumer, KafkaError\n",
    "from pymongo import MongoClient\n",
    "from hdfs import InsecureClient\n",
    "\n",
    "# Kafka configuration\n",
    "kafka_topic = 'dataset'\n",
    "kafka_server = 'localhost:9092'\n",
    "\n",
    "# Read CSV data using pandas\n",
    "csv_file = 'datasettraining.csv'\n",
    "csv_stream = pd.read_csv(csv_file, chunksize=100)  # Adjust chunksize as needed\n",
    "\n",
    "\n",
    "\n"
   ]
  },
  {
   "cell_type": "code",
   "execution_count": 9,
   "id": "302485be-e7bb-4b25-89f2-b6be3dc8bcd9",
   "metadata": {},
   "outputs": [],
   "source": [
    "# Kafka producer to publish CSV data\n",
    "producer_config = {\n",
    "    'bootstrap.servers': kafka_server,\n",
    "}\n",
    "producer = Producer(producer_config)\n",
    "\n",
    "# Produce CSV data to Kafka topic\n",
    "for chunk in csv_stream:\n",
    "    records = chunk.to_dict(orient='records')\n",
    "    for record in records:\n",
    "        producer.produce(kafka_topic, value=json.dumps(record).encode('utf-8'))\n",
    "\n",
    "# Wait for any outstanding messages to be delivered and delivery reports received\n",
    "producer.flush()\n",
    "\n",
    "# Kafka consumer to consume data\n",
    "consumer_config = {\n",
    "    'bootstrap.servers': kafka_server,\n",
    "    'group.id': 'my-group',\n",
    "    'auto.offset.reset': 'earliest',\n",
    "}"
   ]
  },
  {
   "cell_type": "code",
   "execution_count": 10,
   "id": "35ba4230-ac2c-469f-84ca-bc07d10d6a83",
   "metadata": {},
   "outputs": [],
   "source": [
    "from pyspark.sql import SparkSession\n",
    "from pyspark.sql.functions import *\n",
    "\n",
    "import time\n",
    "\n",
    "kafka_topic_name = kafka_topic\n",
    "kafka_bootstrap_servers = 'localhost:9092'"
   ]
  },
  {
   "cell_type": "code",
   "execution_count": 11,
   "id": "aa484a85-19a5-4be6-80a3-f63d7f62dbe8",
   "metadata": {},
   "outputs": [],
   "source": [
    "import os\n",
    "os.environ['SPARK_LOCAL_IP'] = '172.17.15.239'\n"
   ]
  },
  {
   "cell_type": "code",
   "execution_count": 12,
   "id": "6d49ee22-ef30-48d5-af15-87af6f86041f",
   "metadata": {},
   "outputs": [
    {
     "name": "stdout",
     "output_type": "stream",
     "text": [
      "Welcome to DataMaking !!!\n",
      "Stream Data Processing Application Started ...\n",
      "2023-10-12 14:53:13\n"
     ]
    },
    {
     "name": "stderr",
     "output_type": "stream",
     "text": [
      "Setting default log level to \"WARN\".\n",
      "To adjust logging level use sc.setLogLevel(newLevel). For SparkR, use setLogLevel(newLevel).\n"
     ]
    },
    {
     "name": "stdout",
     "output_type": "stream",
     "text": [
      "23/10/12 14:53:14 WARN NativeCodeLoader: Unable to load native-hadoop library for your platform... using builtin-java classes where applicable\n",
      "23/10/12 14:53:14 WARN Utils: Service 'SparkUI' could not bind on port 4040. Attempting port 4041.\n",
      "23/10/12 14:53:14 WARN Utils: Service 'SparkUI' could not bind on port 4041. Attempting port 4042.\n",
      "23/10/12 14:53:14 WARN Utils: Service 'SparkUI' could not bind on port 4042. Attempting port 4043.\n"
     ]
    }
   ],
   "source": [
    "if __name__ == \"__main__\":\n",
    "    print(\"Welcome to DataMaking !!!\")\n",
    "    print(\"Stream Data Processing Application Started ...\")\n",
    "    print(time.strftime(\"%Y-%m-%d %H:%M:%S\"))\n",
    "\n",
    "    spark = SparkSession \\\n",
    "        .builder \\\n",
    "        .appName(\"PySpark Structured Streaming with Kafka and Message Format as JSON\") \\\n",
    "        .master(\"local[*]\") \\\n",
    "        .getOrCreate()\n",
    "\n",
    "    spark.sparkContext.setLogLevel(\"ERROR\")\n"
   ]
  },
  {
   "cell_type": "code",
   "execution_count": 16,
   "id": "57efe7d8-a276-4c0a-adfd-ae2d55087033",
   "metadata": {},
   "outputs": [],
   "source": [
    "\n",
    "if __name__ == \"__main__\":\n",
    "\n",
    "    # STEP 1 : creating spark session object\n",
    "    packages = [\n",
    "    f'org.apache.spark:spark-sql-kafka-0-10_2.12:3.3.2',\n",
    "    'org.apache.kafka:kafka-clients:2.5.0'\n",
    "    ]\n",
    "\n",
    "    spark = SparkSession.builder\\\n",
    "            .master(\"local[*]\")\\\n",
    "            .appName(\"kafka-example\")\\\n",
    "            .config(\"spark.jars.packages\", \",\".join(packages))\\\n",
    "            .getOrCreate()\n",
    "\n",
    "    \n",
    "    # spark = (\n",
    "    #     SparkSession.builder.appName(\"Kafka Pyspark Streamin Learning\")\n",
    "    #     .master(\"local[*]\")\n",
    "    #     .getOrCreate()\n",
    "    # )\n",
    "    spark.sparkContext.setLogLevel(\"ERROR\")"
   ]
  },
  {
   "cell_type": "code",
   "execution_count": 27,
   "id": "be44acec-2b80-42a9-9a4d-842d8e74ae73",
   "metadata": {},
   "outputs": [],
   "source": [
    "\n",
    "df = spark \\\n",
    "  .readStream \\\n",
    "  .format(\"kafka\") \\\n",
    "  .option(\"kafka.bootstrap.servers\", \"localhost:9092\") \\\n",
    "  .option(\"subscribe\", \"dataset\") \\\n",
    "  .load()"
   ]
  },
  {
   "cell_type": "code",
   "execution_count": 55,
   "id": "20b1effc-f51a-4600-a3a7-6d51aeef320c",
   "metadata": {},
   "outputs": [],
   "source": [
    "csv_file_path = \"hdfs://localhost:9000/data/dataset.csv\"\n",
    "df = spark.read.csv(csv_file_path, header=True, inferSchema=True)"
   ]
  }
 ],
 "metadata": {
  "kernelspec": {
   "display_name": "Python 3 (ipykernel)",
   "language": "python",
   "name": "python3"
  },
  "language_info": {
   "codemirror_mode": {
    "name": "ipython",
    "version": 3
   },
   "file_extension": ".py",
   "mimetype": "text/x-python",
   "name": "python",
   "nbconvert_exporter": "python",
   "pygments_lexer": "ipython3",
   "version": "3.10.12"
  }
 },
 "nbformat": 4,
 "nbformat_minor": 5
}
